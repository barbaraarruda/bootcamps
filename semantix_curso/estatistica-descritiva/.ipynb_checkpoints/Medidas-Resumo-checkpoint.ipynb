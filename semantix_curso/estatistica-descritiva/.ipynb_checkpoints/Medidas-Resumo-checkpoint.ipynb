{
 "cells": [
  {
   "cell_type": "markdown",
   "metadata": {},
   "source": [
    "# **Medidas-Resumo**\n",
    "\n",
    "Características importantes de qualquer conjunto de dados\n",
    "\n",
    "* Centro\n",
    "* Variação\n",
    "* Distribuição\n",
    "* Valores atípicos\n",
    "\n",
    "### 1. Medidas de Posição ou Localização \n",
    "\n",
    "\n",
    "* **Média** - Ponto de equilíbrio.\n",
    "* **Mediana** - Centro dos dados.\n",
    "* **Moda** - Ponto de concentração. /pontos com maior frequência\n",
    "* **Quantis** - Caracterização da distribuição dos dados.\n",
    "\n",
    "#### 1.1 Média\n",
    "\n",
    "Seja $X_1$, . . . , $X_n$ uma amostra aleatória e $x_1$, . . . , $x_n$ os valores observados de cada $x$. \n",
    "\n",
    "A **média** amostral é definida como:\n",
    "\n",
    "$$\\overline{x}=\\frac{\\sum_{i=1}^{n}x_i}{n}$$\n",
    "\n",
    "**Vantagens**\n",
    "\n",
    "* Tem boas propriedades estatísticas.\n",
    "* Facilidade de cálculo e compreensão.\n",
    "\n",
    "**Desvantagens**\n",
    "\n",
    "* Influenciada por valores atípicos.\n",
    "* Bastante afetada por distribuições assimétricas.\n",
    "* Só pode ser calculada para dados quantitativos.\n",
    "\n",
    "#### 1.2 Mediana\n",
    "\n",
    "Considere a amostra ordenada $x_{(1)}$, . . . ,$x_{(n)}$, ou seja,\n",
    "$x_{(1)}$ = min($x_1$, . . . , $x_n$) e $x_{(n)}$ = max($x_1$, . . . , $x_n$).\n",
    "\n",
    "Qual é a posição central dos dados?\n",
    "\n",
    "* Se $n$ é ímpar, a posição central é $p = (n + 1)/2.$     \n",
    "* Se $n$ é par, as posições centrais são $p = n/2$ e $p + 1 = n/2 + 1.$\n",
    "\n",
    "A **mediana** é definida como\n",
    "\n",
    "$$Md=\n",
    "\\begin{cases}\n",
    "\\dfrac{x_{(p)}+x_{(p+1)}}{2}, &\\text{se n é par}\\\\\n",
    "x_{(p)},&\\text{se n é ímpar}\\\\\n",
    "\\end{cases}\n",
    "$$\n",
    "\n",
    "**Vantagens**\n",
    "\n",
    "* Mais resistente a valores atípicos.\n",
    "* Pouco afetada por distribuições assimétricas.\n",
    "\n",
    "**Desvantagens**\n",
    "\n",
    "* Menos conhecida que a média.\n",
    "* Não tem boas propriedades estatísticas.\n",
    "\n",
    "#### 1.3 Moda\n",
    "\n",
    "A **moda** é o valor mais frequente da amostra.\n",
    "Uma amostra pode ter uma moda, mais de uma moda, ou a moda\n",
    "pode não existir.\n",
    "\n",
    "\n",
    "**Vantagens**\n",
    "\n",
    "* Não exige cálculo, apenas contagem.\n",
    "* Pode ser determinada também para variáveis qualitativas.\n",
    "\n",
    "**Desvantagens**\n",
    "\n",
    "* Deixa sem representação todos os valores do conjunto de dados que não forem iguais a ela.\n",
    "* Não tem boas propriedades estatísticas.\n",
    "\n",
    "#### 1.4 Medidas de Assimetria\n",
    "\n",
    "* **Distribuição simétrica**: média = mediana = moda\n",
    "* **Distribuição assimétrica à direita**: moda < mediana < média\n",
    "* **Distribuição assimétrica à esquerda**: média < mediana < moda\n",
    "\n",
    "### Quando usar a média, mediana ou moda?\n",
    "\n",
    "* **Média**: Maior eficiência quanto mais simétrica for a distribuição.\n",
    "* **Mediana**: Mesmo com valores assimétricos em torno da média, ela será o centro da distribuição.\n",
    "* **Moda**: Quando o interesse é conhecer o(s) valor(es) que aparece(m) com maior frequência.\n",
    "\n",
    "\n",
    "\n",
    "\n",
    "\n",
    "#### 1.4 Quantis ou Separatrizes\n",
    "\n",
    "Indicam limites para proporções de observações em um conjunto.\n",
    "\n",
    "* **Quartis** - dividem o conjunto de dados em 4 partes iguais.\n",
    "* **Decis** - dividem o conjunto de dados em 10 partes iguais.\n",
    "* **Percentis** - dividem o conjunto de dados em 100 partes iguais.\n",
    "\n"
   ]
  },
  {
   "cell_type": "markdown",
   "metadata": {},
   "source": [
    "### 2. Medidas de Dispersão \n",
    "\n",
    "Indicam o quanto os valores diferem entre si ou quanto eles se afastam da média.\n",
    "\n",
    "* **Amplitude**\n",
    "* **Desvio-padrão** \n",
    "* **Variância** \n",
    "* **Coeficiente de variação** \n",
    "\n",
    "#### 2.1 Amplitude\n",
    "\n",
    "É representada por\n",
    "\n",
    "$$A=x_{(n)}-x_{(1)}$$\n",
    "\n",
    "\n",
    "**Desvantagens**\n",
    "\n",
    "\n",
    "* Pouco precisa.\n",
    "* Extremamente influenciada por valores discrepantes. \n",
    "\n",
    "\n",
    "#### 2.2 Variância amostral\n",
    "\n",
    "$$s^2=\\dfrac{\\sum_{i=1}^{n}({x_i-\\overline{x})}^2}{n-1}$$\n",
    "\n",
    "\n",
    "**Vantagens**\n",
    "\n",
    "\n",
    "* Facilidade de compreensão.\n",
    "* Propriedades estatísticas importantes para inferência. \n",
    "* Considera o desvio = $(x_i-\\overline{x})$, que mede o quanto cada valor desvia da média.\n",
    "\n",
    "**Desvantagens**\n",
    "\n",
    "\n",
    "* Calculada a partir da média, medida pouco resistente, ou seja, muito influenciada por valores atípicos.\n",
    "* Interpretação difícil, pois o valor da variância é a unidade de medida da variável ao quadrado. Ou seja, se a variável y é a altura em $cm$ dos estudantes, então a variância será $cm^2$. \n",
    "\n",
    "\n",
    "\n",
    "#### 2.3 Desvio-padrão amostral\n",
    "\n",
    "Surge para solucionar o problema de interpretação da variância. \n",
    "\n",
    "$$s=\\sqrt{\\dfrac{\\sum_{i=1}^{n}(x_i-\\overline{x})^2}{n-1}}$$\n",
    "\n",
    "**Significado:** Variação média em torno da média aritmética.\n",
    "\n",
    "#### 2.4 Coeficiente de Variação (CV)\n",
    "\n",
    "O **coeficiente de variação** (amostral) é representado por\n",
    "\n",
    "$$CV= 100 . \\frac{s}{\\overline{x}}$$\n",
    "\n",
    "* Medida de variabilidade relativa à média.\n",
    "* É uma medida adimensional, e geralmente apresentada na forma de porcentagem.\n",
    "* Ideal para comparar a variabilidade de variáveis com unidades de medidas diferentes.\n",
    "\n",
    "**Exemplo:**\n",
    "\n",
    "1. Consideremos conjunto de valores referentes a produção diária de leite (em litros).\n",
    "\n",
    "   * Raça 1: $\\overline{x} = 25$ l, $s = 4,2$ l, $CV = 16,8\\%$\n",
    "   * Raça 2: $\\overline{x} = 13$ l, $s = 3,4$ l, $CV = 26,2\\%$\n",
    "\n",
    "2. Consideremos conjunto de valores referentes a altura (em cm) e os pesos (em kg), de um grupo de estudantes.\n",
    "\n",
    "   * Altura: $\\overline{x} = 165$ cm, $s = 30$ cm, $CV = 18,2\\%$\n",
    "   * Peso: $\\overline{x} = 58$ kg, $s = 9$ kg, $CV = 15,5\\%$\n",
    "\n",
    "Alguns autores consideram as seguintes regras:\n",
    "\n",
    "   * **Baixa Dispersão:** $CV < 15\\%$\n",
    "   * **Média:** $15\\% =< CV < 30\\%$\n",
    "   * **Alta:** $CV >= 30\\%$"
   ]
  },
  {
   "cell_type": "markdown",
   "metadata": {},
   "source": [
    "### 3. Medidas de Associação\n",
    "\n",
    "Quando o interesse é avaliar o comportamento conjunto de duas variáveis.\n",
    "\n",
    "* Qual o tipo de relacionamento entre elas?\n",
    "* Qual a intensidade da relação?\n",
    "\n",
    "**Exemplos:**\n",
    "\n",
    "* Relação entre a altura dos pais (X) e altura dos filhos (Y).\n",
    "* Relação entre renda familiar (X) e número de filhos (Y).\n",
    "\n",
    "#### 3.1 Covariância\n",
    "$$Cov(X,Y)=\\sum_{i=1}^{n}{(x_i-\\overline{x})(y_i-\\overline{y})}$$\n",
    "\n",
    "Representa o quanto X e Y estão variando em conjunto.\n",
    "\n",
    "* **Covariância Positiva:** Relação entre X e Y na mesma direção.\n",
    "\n",
    "* **Covariância Negativa:** Relação entre X e Y na direção contrária.\n",
    "\n",
    "#### 3.2 Coeficiente de Correlação de Pearson\n",
    "$$ r =\\frac{Cov(X,Y)}{S_x S_y}$$\n",
    "\n",
    "**O coeficiente de correlação varia entre -1 e 1.**\n",
    "\n",
    "Deve ser calculado quando existe uma relação linear entre X e Y.\n",
    "\n",
    "Interpretação:\n",
    "\n",
    "* **r positivo** = correlação positiva ou direta entre X e Y\n",
    "* **r negativo** = correlação negativa ou inversa entre X e Y\n",
    "\n",
    "    * **Ausência de correlação (não implica em indepedência):** r = 0\n",
    "    * **Fraca:** 0 < r =< 0,4\n",
    "    * **Regular:** 0,4 < r =< 0,6\n",
    "    * **Boa:** 0,6 < r =< 0,8\n",
    "    * **Alta:** r > 0,8\n",
    "    * **Perfeita:** r = 1\n",
    "   \n",
    "**Correlação** não implica em **Casualidade**\n",
    "\n",
    "* O coeficiente de correlação não mede a relação causa e efeito entre as variáveis, mas essa relação pode está presente.\n",
    "* **Exemplo:** forte relação positiva entre as vendas anuais de chicletes e a taxa de criminalidade nos EUA.\n",
    "\n",
    "**Desvantagem**\n",
    "\n",
    "* Por ser em função da média é altamente afetado por valores atípicos.\n",
    "\n",
    "#### 3.3 Coeficiente de Correlação de Spearman\n",
    "É igual ao Coeficiente de Pearson aplicado aos valores da ordem de duas variáveis.\n",
    "\n",
    "\n",
    "$$r = \\dfrac{\\sum_{i=1}^{n}{(rx_i-r\\overline{x})(ry_i-r\\overline{y})}}{\\sqrt{\\sum_{i=1}^{n}(rx_i-r\\overline{x})^2}\\sqrt{\\sum_{i=1}^{n}(ry_i-r\\overline{y})^2}}$$\n",
    "\n",
    "**Exemplo:** Se x = {7,2,5,9}, então rx = {3,1,2,4}. \n",
    "\n",
    "**Vantagens**\n",
    "\n",
    "* Não é sensível a assimetria e nem a valores atípicos.\n",
    "* Mede relações lineares e não-lineares.\n",
    "\n",
    "**Desvantagem**\n",
    "\n",
    "*  Quando temos muitas observações com a mesma ordem (Coeficiente de Correlação de Kendall)."
   ]
  },
  {
   "cell_type": "markdown",
   "metadata": {},
   "source": [
    "### 4. Regra geral para escolha da medida mais adequada\n",
    "\n",
    "* Qual o objetivo de análise?\n",
    "* A medida é intuitiva e fácil de interpretar?\n",
    "* Existem valores que possam afetá-la?\n",
    "* A análise é meramente descritiva ou pretende-se fazer inferência?"
   ]
  },
  {
   "cell_type": "markdown",
   "metadata": {},
   "source": [
    "## Prática Medidas-Resumo"
   ]
  },
  {
   "cell_type": "code",
   "execution_count": 1,
   "metadata": {},
   "outputs": [],
   "source": [
    "import statistics\n",
    "import numpy as np\n",
    "import pandas as pd"
   ]
  },
  {
   "cell_type": "markdown",
   "metadata": {},
   "source": [
    "### 1. Média"
   ]
  },
  {
   "cell_type": "code",
   "execution_count": 2,
   "metadata": {},
   "outputs": [],
   "source": [
    "dados = [28, 12, 2.5, 4, 1]\n",
    "dados_sem_outlier_1 = [ 12, 2.5, 4, 1]\n",
    "dados_sem_outlier_2 = [2.5, 4, 1]"
   ]
  },
  {
   "attachments": {
    "1-2.png": {
     "image/png": "[encoded data removed]"
    }
   },
   "cell_type": "markdown",
   "metadata": {},
   "source": [
    "![1-2.png](attachment:1-2.png)"
   ]
  },
  {
   "attachments": {
    "2-2.PNG": {
     "image/png": "[encoded data removed]"
    }
   },
   "cell_type": "markdown",
   "metadata": {},
   "source": [
    "![2-2.PNG](attachment:2-2.PNG)"
   ]
  },
  {
   "cell_type": "code",
   "execution_count": 3,
   "metadata": {
    "scrolled": true
   },
   "outputs": [
    {
     "name": "stdout",
     "output_type": "stream",
     "text": [
      "Média: \n",
      " 9.5\n",
      "Média sem Outlier 1: \n",
      " 4.88\n",
      "Média sem Outlier 2: \n",
      " 2.5\n"
     ]
    }
   ],
   "source": [
    "dados_mean = statistics.mean(dados)\n",
    "mean_sem_outlier_1 = statistics.mean(dados_sem_outlier_1)\n",
    "mean_sem_outlier_2 = statistics.mean(dados_sem_outlier_2)\n",
    "\n",
    "print('Média: \\n', dados_mean)\n",
    "print('Média sem Outlier 1: \\n', round(mean_sem_outlier_1,2) )\n",
    "print('Média sem Outlier 2: \\n', round(mean_sem_outlier_2,2) )"
   ]
  },
  {
   "cell_type": "code",
   "execution_count": 4,
   "metadata": {},
   "outputs": [
    {
     "name": "stdout",
     "output_type": "stream",
     "text": [
      "Mediana: \n",
      " 4\n",
      "Mediana sem Outlier 1: \n",
      " 3.25\n",
      "Mediana sem Outlier 2: \n",
      " 2.5\n"
     ]
    }
   ],
   "source": [
    "dados_med = statistics.median(dados)\n",
    "med_sem_outlier_1 = statistics.median(dados_sem_outlier_1)\n",
    "med_sem_outlier_2 = statistics.median(dados_sem_outlier_2)\n",
    "\n",
    "print('Mediana: \\n', dados_med)\n",
    "print('Mediana sem Outlier 1: \\n', med_sem_outlier_1)\n",
    "print('Mediana sem Outlier 2: \\n', med_sem_outlier_2)"
   ]
  },
  {
   "cell_type": "markdown",
   "metadata": {},
   "source": [
    "### 2. Variância"
   ]
  },
  {
   "cell_type": "code",
   "execution_count": 5,
   "metadata": {},
   "outputs": [
    {
     "name": "stdout",
     "output_type": "stream",
     "text": [
      "Variância: \n",
      " 125.0\n",
      "Variância sem Outlier 1: \n",
      " 24.06\n",
      "Variância sem Outlier 2: \n",
      " 2.25\n"
     ]
    }
   ],
   "source": [
    "# populacional coloca o p\n",
    "var_dados = round(statistics.variance(dados),2)\n",
    "var_dados_sem_outlier_1 = round(statistics.variance(dados_sem_outlier_1),2)\n",
    "var_dados_sem_outlier_2 = round(statistics.variance(dados_sem_outlier_2),2)\n",
    "\n",
    "print('Variância: \\n',var_dados)\n",
    "print('Variância sem Outlier 1: \\n', var_dados_sem_outlier_1)\n",
    "print('Variância sem Outlier 2: \\n', var_dados_sem_outlier_2)"
   ]
  },
  {
   "cell_type": "code",
   "execution_count": 18,
   "metadata": {},
   "outputs": [
    {
     "name": "stdout",
     "output_type": "stream",
     "text": [
      "Variância: \n",
      " 100.0\n"
     ]
    }
   ],
   "source": [
    "var_dados_pop = round(statistics.pvariance(dados),2)\n",
    "print('Variância: \\n',var_dados_pop)"
   ]
  },
  {
   "cell_type": "code",
   "execution_count": 6,
   "metadata": {},
   "outputs": [
    {
     "name": "stdout",
     "output_type": "stream",
     "text": [
      "Desvio Padrão: \n",
      " 11.18\n",
      "Desvio Padrão sem Outlier: \n",
      " 4.91\n",
      "Desvio Padrão sem Outlier: \n",
      " 1.5\n"
     ]
    }
   ],
   "source": [
    "# populacional coloca o p\n",
    "std_dados = round(statistics.stdev(dados),2)\n",
    "std_dados_sem_outlier_1 = round(statistics.stdev(dados_sem_outlier_1),2)\n",
    "std_dados_sem_outlier_2 = round(statistics.stdev(dados_sem_outlier_2),2)\n",
    "\n",
    "print('Desvio Padrão: \\n',std_dados)\n",
    "print('Desvio Padrão sem Outlier: \\n', std_dados_sem_outlier_1)\n",
    "print('Desvio Padrão sem Outlier: \\n', std_dados_sem_outlier_2)"
   ]
  },
  {
   "cell_type": "code",
   "execution_count": null,
   "metadata": {},
   "outputs": [],
   "source": [
    "dados = [28, 12, 2.5, 4, 1]\n",
    "dados_sem_outlier_1 = [ 12, 2.5, 4, 1]\n",
    "dados_sem_outlier_2 = [2.5, 4, 1] #Em média, cada elemento desse conjunto está se distanciando da média em 1,5 unidades."
   ]
  },
  {
   "cell_type": "code",
   "execution_count": 20,
   "metadata": {},
   "outputs": [
    {
     "data": {
      "text/plain": [
       "2.5"
      ]
     },
     "execution_count": 20,
     "metadata": {},
     "output_type": "execute_result"
    }
   ],
   "source": [
    "statistics.mean(dados_sem_outlier_2)"
   ]
  },
  {
   "cell_type": "markdown",
   "metadata": {},
   "source": [
    "### 3. Moda"
   ]
  },
  {
   "cell_type": "code",
   "execution_count": 7,
   "metadata": {},
   "outputs": [
    {
     "name": "stdout",
     "output_type": "stream",
     "text": [
      "Moda_1: \n",
      " 2\n",
      "Moda_2: \n",
      " [2]\n"
     ]
    }
   ],
   "source": [
    "u = [2, 3, 2, 8, 12]\n",
    "\n",
    "moda_1 = statistics.mode(u)\n",
    "moda_2 = statistics.multimode(u)\n",
    "\n",
    "print('Moda_1: \\n',moda_1)\n",
    "print('Moda_2: \\n', moda_2)"
   ]
  },
  {
   "cell_type": "code",
   "execution_count": 22,
   "metadata": {},
   "outputs": [
    {
     "name": "stdout",
     "output_type": "stream",
     "text": [
      "Moda_1: \n",
      " 1\n",
      "Moda_2: \n",
      " [1, 2, 12]\n"
     ]
    }
   ],
   "source": [
    "v = [1, 1, 2, 3, 2, 8, 12, 12]\n",
    "\n",
    "moda_1 = statistics.mode(v)\n",
    "moda_2 = statistics.multimode(v)\n",
    "\n",
    "print('Moda_1: \\n',moda_1)\n",
    "print('Moda_2: \\n', moda_2)"
   ]
  },
  {
   "cell_type": "markdown",
   "metadata": {},
   "source": [
    "### 4. Quantis"
   ]
  },
  {
   "cell_type": "code",
   "execution_count": 26,
   "metadata": {},
   "outputs": [
    {
     "name": "stdout",
     "output_type": "stream",
     "text": [
      "Decis: \n",
      " [-1.8800000000000001, -0.38, 0.86, 3.2, 8.0, 11.84, 17.72, 22.919999999999998, 28.839999999999996]\n",
      "Quartis: \n",
      " [0.1, 8.0, 21.0]\n"
     ]
    }
   ],
   "source": [
    "x = [-5.0, -1.1, 0.1, 2.0, 8.0, 12.8, 21.0, 25.8, 41.0]\n",
    "\n",
    "di = statistics.quantiles(x, n=10, method='inclusive')\n",
    "qi = statistics.quantiles(x, n=4, method='inclusive')\n",
    "\n",
    "\n",
    "print('Decis: \\n', di)\n",
    "print('Quartis: \\n', qi)"
   ]
  },
  {
   "cell_type": "markdown",
   "metadata": {},
   "source": [
    "### 5. Matriz de Covariância"
   ]
  },
  {
   "cell_type": "code",
   "execution_count": 10,
   "metadata": {},
   "outputs": [],
   "source": [
    "x = list(range(-10, 11))\n",
    "y = [0, 2, 2, 2, 2, 3, 3, 6, 7, 4, 7, 6, 6, 9, 4, 5, 5, 10, 11, 12, 14]\n",
    "x_, y_ = np.array(x), np.array(y)\n",
    "x__, y__ = pd.Series(x_), pd.Series(y_)"
   ]
  },
  {
   "cell_type": "code",
   "execution_count": 11,
   "metadata": {},
   "outputs": [
    {
     "data": {
      "text/plain": [
       "array([[38.5       , 19.95      ],\n",
       "       [19.95      , 13.91428571]])"
      ]
     },
     "execution_count": 11,
     "metadata": {},
     "output_type": "execute_result"
    }
   ],
   "source": [
    "cov_matrix = np.cov(x_, y_)\n",
    "cov_matrix"
   ]
  },
  {
   "cell_type": "code",
   "execution_count": 12,
   "metadata": {},
   "outputs": [
    {
     "name": "stdout",
     "output_type": "stream",
     "text": [
      "Variância de x: \n",
      " 38.5\n",
      "Variância de y: \n",
      " 13.91\n",
      "Covariância de x e y: \n",
      " 19.95\n"
     ]
    }
   ],
   "source": [
    "#Elementos da matriz\n",
    "\n",
    "var_x = cov_matrix[0, 0]\n",
    "var_y = cov_matrix[1, 1]\n",
    "cov_xy = cov_matrix[0, 1]\n",
    "#cov_xy = cov_matrix[1, 0]\n",
    "\n",
    "print('Variância de x: \\n', var_x)\n",
    "print('Variância de y: \\n', round(var_y,2))\n",
    "print('Covariância de x e y: \\n', cov_xy)"
   ]
  },
  {
   "cell_type": "code",
   "execution_count": 13,
   "metadata": {},
   "outputs": [
    {
     "name": "stdout",
     "output_type": "stream",
     "text": [
      "Covariância de x e y: \n",
      " 19.95\n",
      "Covariância de x e y: \n",
      " 19.95\n"
     ]
    }
   ],
   "source": [
    "#Dados em série\n",
    "\n",
    "cov_xy_1 = x__.cov(y__)\n",
    "cov_xy_2 = y__.cov(x__)\n",
    "\n",
    "print('Covariância de x e y: \\n', cov_xy_1)\n",
    "print('Covariância de x e y: \\n', cov_xy_2)"
   ]
  },
  {
   "cell_type": "markdown",
   "metadata": {},
   "source": [
    "### 6. Matriz de Correlação"
   ]
  },
  {
   "cell_type": "code",
   "execution_count": 14,
   "metadata": {},
   "outputs": [
    {
     "data": {
      "text/plain": [
       "array([[1.        , 0.86195001],\n",
       "       [0.86195001, 1.        ]])"
      ]
     },
     "execution_count": 14,
     "metadata": {},
     "output_type": "execute_result"
    }
   ],
   "source": [
    "corr_matrix = np.corrcoef(x_, y_)\n",
    "corr_matrix"
   ]
  },
  {
   "cell_type": "code",
   "execution_count": 15,
   "metadata": {},
   "outputs": [
    {
     "name": "stdout",
     "output_type": "stream",
     "text": [
      "Correlação entre x e y: \n",
      " 0.86\n"
     ]
    }
   ],
   "source": [
    "#Elementos da matriz\n",
    "\n",
    "r = corr_matrix[0, 1]\n",
    "#r = corr_matrix[1, 0]\n",
    "\n",
    "print('Correlação entre x e y: \\n', round(r,2))"
   ]
  },
  {
   "cell_type": "code",
   "execution_count": 16,
   "metadata": {},
   "outputs": [
    {
     "name": "stdout",
     "output_type": "stream",
     "text": [
      "Correlação entre x e y: \n",
      " 0.86\n",
      "Correlação entre x e y: \n",
      " 0.86\n"
     ]
    }
   ],
   "source": [
    "#Dados em série\n",
    "\n",
    "r_1 = x__.corr(y__)\n",
    "r_2 = y__.corr(x__)\n",
    "\n",
    "print('Correlação entre x e y: \\n', round(r_1,2))\n",
    "print('Correlação entre x e y: \\n', round(r_2,2))"
   ]
  },
  {
   "cell_type": "markdown",
   "metadata": {},
   "source": [
    "### 7. Coeficiente de Variação"
   ]
  },
  {
   "cell_type": "markdown",
   "metadata": {},
   "source": [
    "Deseja-se analisar a idade (anos) e altura (metros) de um grupo de pessoas de uma determinada região. Suponha que o interesse seja verficar a característica mais homogênea, ou seja, a variável que possui menor dispersão em torno da média.\n",
    "\n",
    "**Idade das pessoas:** Média = 41,6 e Desvio Padrão = 0,82\n",
    "\n",
    "**Altura das pessoas:** Média = 1,67 e Desvio Padrão = 0,2"
   ]
  },
  {
   "cell_type": "code",
   "execution_count": 17,
   "metadata": {},
   "outputs": [
    {
     "name": "stdout",
     "output_type": "stream",
     "text": [
      "Coeficiente de Variação da idade:: 2.0%\n",
      "Coeficiente de Variação da altura:: 12.0%\n"
     ]
    }
   ],
   "source": [
    "CV_idade = (0.82/41.6) * 100\n",
    "CV_altura = (0.2/1.67) * 100\n",
    "\n",
    "print(f'Coeficiente de Variação da idade:: {CV_idade:.1f}'\"%\")\n",
    "print(f'Coeficiente de Variação da altura:: {CV_altura:.1f}'\"%\")"
   ]
  }
 ],
 "metadata": {
  "kernelspec": {
   "display_name": "Python 3 (ipykernel)",
   "language": "python",
   "name": "python3"
  },
  "language_info": {
   "codemirror_mode": {
    "name": "ipython",
    "version": 3
   },
   "file_extension": ".py",
   "mimetype": "text/x-python",
   "name": "python",
   "nbconvert_exporter": "python",
   "pygments_lexer": "ipython3",
   "version": "3.9.12"
  }
 },
 "nbformat": 4,
 "nbformat_minor": 4
}
