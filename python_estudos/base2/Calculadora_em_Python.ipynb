{
  "nbformat": 4,
  "nbformat_minor": 0,
  "metadata": {
    "colab": {
      "provenance": []
    },
    "kernelspec": {
      "name": "python3",
      "display_name": "Python 3"
    },
    "language_info": {
      "name": "python"
    }
  },
  "cells": [
    {
      "cell_type": "code",
      "execution_count": 1,
      "metadata": {
        "colab": {
          "base_uri": "https://localhost:8080/"
        },
        "id": "QCjF3Ya5U-6x",
        "outputId": "ab7db507-dce7-474d-e85b-e78bef1e512e"
      },
      "outputs": [
        {
          "output_type": "stream",
          "name": "stdout",
          "text": [
            "Digite o seu peso (kg): 45\n",
            "Digite a sua altura (m): 1.63\n",
            "Seu IMC é 16.94. Você está Abaixo do peso.\n"
          ]
        }
      ],
      "source": [
        "# Importa as bibliotecas necessárias\n",
        "import math\n",
        "\n",
        "# Função para calcular o IMC\n",
        "def calcula_imc(peso, altura):\n",
        "  \"\"\"\n",
        "  Calcula o Índice de Massa Corporal (IMC) de uma pessoa.\n",
        "\n",
        "  Args:\n",
        "    peso: Peso da pessoa em kg.\n",
        "    altura: Altura da pessoa em m.\n",
        "\n",
        "  Returns:\n",
        "    O IMC da pessoa.\n",
        "  \"\"\"\n",
        "\n",
        "  return peso / (altura ** 2)\n",
        "\n",
        "# Função para classificar o IMC\n",
        "def classifica_imc(imc):\n",
        "  \"\"\"\n",
        "  Classifica o IMC de uma pessoa.\n",
        "\n",
        "  Args:\n",
        "    imc: O IMC da pessoa.\n",
        "\n",
        "  Returns:\n",
        "    Uma string com a classificação do IMC.\n",
        "  \"\"\"\n",
        "\n",
        "  if imc < 18.5:\n",
        "    return \"Abaixo do peso\"\n",
        "  elif imc < 25:\n",
        "    return \"Peso normal\"\n",
        "  elif imc < 30:\n",
        "    return \"Sobrepeso\"\n",
        "  else:\n",
        "    return \"Obesidade\"\n",
        "\n",
        "# Função principal\n",
        "def main():\n",
        "  # Pede ao usuário para inserir o peso e a altura\n",
        "  peso = float(input(\"Digite o seu peso (kg): \"))\n",
        "  altura = float(input(\"Digite a sua altura (m): \"))\n",
        "\n",
        "  # Calcula o IMC\n",
        "  imc = calcula_imc(peso, altura)\n",
        "\n",
        "  # Classifica o IMC\n",
        "  classificacao = classifica_imc(imc)\n",
        "\n",
        "  # Exibe o resultado\n",
        "  print(f\"Seu IMC é {imc:.2f}. Você está {classificacao}.\")\n",
        "\n",
        "# Executa a função principal\n",
        "if __name__ == \"__main__\":\n",
        "  main()"
      ]
    }
  ]
}